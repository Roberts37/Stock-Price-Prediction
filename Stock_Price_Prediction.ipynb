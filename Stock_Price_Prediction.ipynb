{
 "cells": [
  {
   "cell_type": "markdown",
   "id": "1444f323-63f4-4ee8-a8e9-f46f152bd8bc",
   "metadata": {},
   "source": [
    "# Predicting Stock Market Prices with Deep Learning\n",
    "\n",
    "## Project Description\n",
    "\n",
    "The \"Predicting Stock Market Prices with Deep Learning\" project is an exciting exploration of utilizing cutting-edge deep learning techniques to forecast stock market prices. In this project, we delve into the world of financial data, machine learning, and neural networks to develop a predictive model that can potentially assist traders and investors in making informed decisions.\n",
    "\n",
    "## Project Goals\n",
    "\n",
    "### Data Collection\n",
    "\n",
    "Begin by collecting historical stock price data for a specific stock or index. This dataset will serve as the foundation for training and testing the predictive model.\n",
    "\n",
    "### Data Preprocessing\n",
    "\n",
    "Perform data preprocessing, including cleaning, feature engineering, and normalizing the data. Preprocessing is a crucial step to ensure the data is suitable for deep learning.\n",
    "\n",
    "### Model Building\n",
    "\n",
    "Construct a deep learning model using TensorFlow, a popular deep learning framework. The model architecture will consist of Long Short-Term Memory (LSTM) layers, which are excellent for capturing temporal patterns in time series data.\n",
    "\n",
    "### Regularization\n",
    "\n",
    "To prevent overfitting, implement regularization techniques like dropout layers within the neural network.\n",
    "\n",
    "### Training\n",
    "\n",
    "Train the model using historical stock price data, splitting it into training and testing sets. Deep learning models require a substantial amount of data for effective training.\n",
    "\n",
    "### Evaluation\n",
    "\n",
    "Evaluate the model's performance using evaluation metrics like Mean Squared Error (MSE) and Root Mean Squared Error (RMSE). These metrics indicate how closely the model's predictions align with actual stock prices.\n",
    "\n",
    "### Visualization\n",
    "\n",
    "Create visualizations to depict predicted stock prices alongside actual stock prices over time. This provides a clear picture of the model's performance.\n",
    "\n",
    "### Deployment\n",
    "\n",
    "Once satisfied with the model's performance, deploy it for real-time or batch predictions. This can be achieved through web applications, APIs, or other platforms.\n",
    "\n",
    "## Project Benefits\n",
    "\n",
    "- **Data-Driven Decision-Making:** Traders and investors can leverage the model's predictions to make more informed decisions regarding stock purchases, sales, and portfolio management.\n",
    "\n",
    "- **Risk Management:** By understanding future price trends, users can better manage their investment risks.\n",
    "\n",
    "- **Educational Resource:** The project can also serve as an educational resource for those interested in deep learning, financial analysis, and time series forecasting.\n",
    "\n",
    "## Project Challenges\n",
    "\n",
    "- **Data Quality:** Ensuring the quality and reliability of historical stock price data is essential for the model's success.\n",
    "\n",
    "- **Overfitting:** Deep learning models can be prone to overfitting, which is why appropriate regularization techniques are crucial.\n",
    "\n",
    "- **Market Volatility:** Sudden market shifts and unforeseen events can challenge the model's ability to predict future prices accurately.\n",
    "\n",
    "- **Interpretability:** Deep learning models can be complex and difficult to interpret, making al to understand how predictions are generated."
   ]
  },
  {
   "cell_type": "code",
   "execution_count": 41,
   "id": "feee417a-dabc-4532-8168-c8ca67d94cc0",
   "metadata": {},
   "outputs": [],
   "source": [
    "# Import the necessary libraries\n",
    "import tensorflow as tf\n",
    "import pandas as pd\n",
    "from tensorflow import keras\n",
    "import numpy as np\n",
    "import matplotlib.pyplot as plt\n",
    "from sklearn.model_selection import train_test_split\n",
    "import yfinance as yf\n",
    "from datetime import date, timedelta\n",
    "import os\n"
   ]
  },
  {
   "cell_type": "markdown",
   "id": "ae7bdb99-62d7-40dc-858b-203accd5341c",
   "metadata": {},
   "source": [
    "## Data Collection"
   ]
  },
  {
   "cell_type": "code",
   "execution_count": 2,
   "id": "42b1f520-4d0a-4a34-90a7-31a2b2f6fead",
   "metadata": {},
   "outputs": [],
   "source": [
    "\n",
    "# Define a class for retrieving market data\n",
    "class Get_data:\n",
    "    \n",
    "    def __init__(self, symbol, start_date, end_date, interval):\n",
    "        \"\"\"\n",
    "        Constructor to initialize the Get_data class.\n",
    "\n",
    "        Args:\n",
    "        - symbol (str): The stock symbol or market asset symbol.\n",
    "        - start_date (str): The start date for data retrieval (YYYY-MM-DD).\n",
    "        - end_date (str): The end date for data retrieval (YYYY-MM-DD).\n",
    "        - interval (str): The data interval, e.g., '1d' for daily data or '1h' for hourly data.\n",
    "        \"\"\"\n",
    "        self.symbol = symbol\n",
    "        self.start = start_date\n",
    "        self.end = end_date\n",
    "        self.interval = interval\n",
    "\n",
    "    def get_market_data(self):\n",
    "        \"\"\"\n",
    "        Fetch historical market data from Yahoo Finance.\n",
    "\n",
    "        Returns:\n",
    "        - data (pandas.DataFrame): Historical market data in a DataFrame.\n",
    "        \"\"\"\n",
    "        data = yf.download(self.symbol, start=self.start, end=self.end, interval=self.interval)\n",
    "        return data\n",
    "\n",
    "    def print_market_data(self):\n",
    "        \"\"\"\n",
    "        Retrieve and return market data.\n",
    "\n",
    "        Returns:\n",
    "        - market_data (pandas.DataFrame): Historical market data.\n",
    "        \"\"\"\n",
    "        market_data = self.get_market_data()\n",
    "        return market_data\n"
   ]
  },
  {
   "cell_type": "code",
   "execution_count": 3,
   "id": "87228ba9-22f1-4ec0-8023-4d5735753d36",
   "metadata": {},
   "outputs": [
    {
     "name": "stdout",
     "output_type": "stream",
     "text": [
      "[*********************100%%**********************]  1 of 1 completed\n"
     ]
    },
    {
     "data": {
      "text/html": [
       "<div>\n",
       "<style scoped>\n",
       "    .dataframe tbody tr th:only-of-type {\n",
       "        vertical-align: middle;\n",
       "    }\n",
       "\n",
       "    .dataframe tbody tr th {\n",
       "        vertical-align: top;\n",
       "    }\n",
       "\n",
       "    .dataframe thead th {\n",
       "        text-align: right;\n",
       "    }\n",
       "</style>\n",
       "<table border=\"1\" class=\"dataframe\">\n",
       "  <thead>\n",
       "    <tr style=\"text-align: right;\">\n",
       "      <th></th>\n",
       "      <th>close</th>\n",
       "    </tr>\n",
       "    <tr>\n",
       "      <th>Date</th>\n",
       "      <th></th>\n",
       "    </tr>\n",
       "  </thead>\n",
       "  <tbody>\n",
       "    <tr>\n",
       "      <th>1980-12-12</th>\n",
       "      <td>0.128348</td>\n",
       "    </tr>\n",
       "    <tr>\n",
       "      <th>1980-12-15</th>\n",
       "      <td>0.121652</td>\n",
       "    </tr>\n",
       "    <tr>\n",
       "      <th>1980-12-16</th>\n",
       "      <td>0.112723</td>\n",
       "    </tr>\n",
       "    <tr>\n",
       "      <th>1980-12-17</th>\n",
       "      <td>0.115513</td>\n",
       "    </tr>\n",
       "    <tr>\n",
       "      <th>1980-12-18</th>\n",
       "      <td>0.118862</td>\n",
       "    </tr>\n",
       "    <tr>\n",
       "      <th>...</th>\n",
       "      <td>...</td>\n",
       "    </tr>\n",
       "    <tr>\n",
       "      <th>2023-10-05</th>\n",
       "      <td>174.910004</td>\n",
       "    </tr>\n",
       "    <tr>\n",
       "      <th>2023-10-06</th>\n",
       "      <td>177.490005</td>\n",
       "    </tr>\n",
       "    <tr>\n",
       "      <th>2023-10-09</th>\n",
       "      <td>178.990005</td>\n",
       "    </tr>\n",
       "    <tr>\n",
       "      <th>2023-10-10</th>\n",
       "      <td>178.389999</td>\n",
       "    </tr>\n",
       "    <tr>\n",
       "      <th>2023-10-11</th>\n",
       "      <td>179.800003</td>\n",
       "    </tr>\n",
       "  </tbody>\n",
       "</table>\n",
       "<p>10798 rows × 1 columns</p>\n",
       "</div>"
      ],
      "text/plain": [
       "                 close\n",
       "Date                  \n",
       "1980-12-12    0.128348\n",
       "1980-12-15    0.121652\n",
       "1980-12-16    0.112723\n",
       "1980-12-17    0.115513\n",
       "1980-12-18    0.118862\n",
       "...                ...\n",
       "2023-10-05  174.910004\n",
       "2023-10-06  177.490005\n",
       "2023-10-09  178.990005\n",
       "2023-10-10  178.389999\n",
       "2023-10-11  179.800003\n",
       "\n",
       "[10798 rows x 1 columns]"
      ]
     },
     "execution_count": 3,
     "metadata": {},
     "output_type": "execute_result"
    }
   ],
   "source": [
    "# Import necessary libraries\n",
    "from datetime import date, timedelta\n",
    "\n",
    "# Calculate the start and end dates for data retrieval\n",
    "current_date = date.today()\n",
    "\n",
    "# Calculate a date  \n",
    "years_ago = 80 # set to 80 to get the most data we can, many stocks won't be able to pull this much.\n",
    "years_ago_calc = current_date - timedelta(days=365 * years_ago)\n",
    "\n",
    "# Define stock symbol, start date, end date, and data interval\n",
    "symbol = 'AAPL'          # Stock symbol \n",
    "start_date = years_ago_calc  # Start date for data retrieval \n",
    "end_date = current_date   # End date for data retrieval (current date)\n",
    "interval = '1d'          # Data interval ('1d' for daily data)\n",
    "\n",
    "# Create an instance of the Get_data class for retrieving market data\n",
    "market = Get_data(symbol, start_date, end_date, interval)\n",
    "\n",
    "# Fetch and print the market data\n",
    "df = market.print_market_data()\n",
    "# Convert column names to lowercase\n",
    "df.columns = df.columns.str.lower()\n",
    "# Extract and display the 'close' price data\n",
    "df = df[['close']]\n",
    "df\n"
   ]
  },
  {
   "cell_type": "code",
   "execution_count": 4,
   "id": "1f4e9070-958b-4b9d-a084-3ef02837dd01",
   "metadata": {},
   "outputs": [
    {
     "data": {
      "image/png": "[encoded data removed]",
      "text/plain": [
       "<Figure size 1600x600 with 1 Axes>"
      ]
     },
     "metadata": {},
     "output_type": "display_data"
    }
   ],
   "source": [
    "# Create a new figure \n",
    "plt.figure(1, figsize=(16, 6))\n",
    "# Display the closing prices of the stock for visualization.\n",
    "# Plot the 'close' \n",
    "_ = plt.plot(df.close)\n"
   ]
  },
  {
   "cell_type": "markdown",
   "id": "8d9993e1-a1c2-4eee-bfa3-fd369145465b",
   "metadata": {},
   "source": [
    "## Data Preprocessing"
   ]
  },
  {
   "cell_type": "code",
   "execution_count": 5,
   "id": "2af54422-7b85-4abf-8bc1-7d028f89ad16",
   "metadata": {},
   "outputs": [
    {
     "data": {
      "text/html": [
       "<div>\n",
       "<style scoped>\n",
       "    .dataframe tbody tr th:only-of-type {\n",
       "        vertical-align: middle;\n",
       "    }\n",
       "\n",
       "    .dataframe tbody tr th {\n",
       "        vertical-align: top;\n",
       "    }\n",
       "\n",
       "    .dataframe thead th {\n",
       "        text-align: right;\n",
       "    }\n",
       "</style>\n",
       "<table border=\"1\" class=\"dataframe\">\n",
       "  <thead>\n",
       "    <tr style=\"text-align: right;\">\n",
       "      <th></th>\n",
       "      <th>close</th>\n",
       "      <th>returns</th>\n",
       "    </tr>\n",
       "    <tr>\n",
       "      <th>Date</th>\n",
       "      <th></th>\n",
       "      <th></th>\n",
       "    </tr>\n",
       "  </thead>\n",
       "  <tbody>\n",
       "    <tr>\n",
       "      <th>1980-12-12</th>\n",
       "      <td>0.128348</td>\n",
       "      <td>0.000000</td>\n",
       "    </tr>\n",
       "    <tr>\n",
       "      <th>1980-12-15</th>\n",
       "      <td>0.121652</td>\n",
       "      <td>-0.052171</td>\n",
       "    </tr>\n",
       "    <tr>\n",
       "      <th>1980-12-16</th>\n",
       "      <td>0.112723</td>\n",
       "      <td>-0.073398</td>\n",
       "    </tr>\n",
       "    <tr>\n",
       "      <th>1980-12-17</th>\n",
       "      <td>0.115513</td>\n",
       "      <td>0.024751</td>\n",
       "    </tr>\n",
       "    <tr>\n",
       "      <th>1980-12-18</th>\n",
       "      <td>0.118862</td>\n",
       "      <td>0.028992</td>\n",
       "    </tr>\n",
       "    <tr>\n",
       "      <th>...</th>\n",
       "      <td>...</td>\n",
       "      <td>...</td>\n",
       "    </tr>\n",
       "    <tr>\n",
       "      <th>2023-10-05</th>\n",
       "      <td>174.910004</td>\n",
       "      <td>0.007198</td>\n",
       "    </tr>\n",
       "    <tr>\n",
       "      <th>2023-10-06</th>\n",
       "      <td>177.490005</td>\n",
       "      <td>0.014750</td>\n",
       "    </tr>\n",
       "    <tr>\n",
       "      <th>2023-10-09</th>\n",
       "      <td>178.990005</td>\n",
       "      <td>0.008451</td>\n",
       "    </tr>\n",
       "    <tr>\n",
       "      <th>2023-10-10</th>\n",
       "      <td>178.389999</td>\n",
       "      <td>-0.003352</td>\n",
       "    </tr>\n",
       "    <tr>\n",
       "      <th>2023-10-11</th>\n",
       "      <td>179.800003</td>\n",
       "      <td>0.007904</td>\n",
       "    </tr>\n",
       "  </tbody>\n",
       "</table>\n",
       "<p>10798 rows × 2 columns</p>\n",
       "</div>"
      ],
      "text/plain": [
       "                 close   returns\n",
       "Date                            \n",
       "1980-12-12    0.128348  0.000000\n",
       "1980-12-15    0.121652 -0.052171\n",
       "1980-12-16    0.112723 -0.073398\n",
       "1980-12-17    0.115513  0.024751\n",
       "1980-12-18    0.118862  0.028992\n",
       "...                ...       ...\n",
       "2023-10-05  174.910004  0.007198\n",
       "2023-10-06  177.490005  0.014750\n",
       "2023-10-09  178.990005  0.008451\n",
       "2023-10-10  178.389999 -0.003352\n",
       "2023-10-11  179.800003  0.007904\n",
       "\n",
       "[10798 rows x 2 columns]"
      ]
     },
     "execution_count": 5,
     "metadata": {},
     "output_type": "execute_result"
    }
   ],
   "source": [
    "# Reset the index of the DataFrame 'df' and store it as a new DataFrame\n",
    "df = df.reset_index()\n",
    "\n",
    "# Create a new column 'returns' in the DataFrame and initialize it with zeros\n",
    "df['returns'] = 0\n",
    "\n",
    "# Calculate daily returns for each row in the DataFrame\n",
    "for x in range(1, len(df.index)):\n",
    "    # Calculate the daily return as the percentage change in 'close' price\n",
    "    change = df.loc[x, 'close'] / df.loc[x - 1, 'close'] - 1\n",
    "    \n",
    "    # Store the calculated daily return in the 'returns' column of the DataFrame\n",
    "    df.loc[x, 'returns'] = change\n",
    "\n",
    "# Set the 'Date' column as the index of the DataFrame\n",
    "df = df.set_index('Date')\n",
    "\n",
    "# Display the DataFrame with the added 'returns' column\n",
    "df\n"
   ]
  },
  {
   "cell_type": "code",
   "execution_count": 6,
   "id": "98296512-65fb-4ec2-81b3-5e58374e4f0e",
   "metadata": {},
   "outputs": [],
   "source": [
    "# Calculate log returns for each row in the DataFrame\n",
    "df['log_returns'] = np.log(1+ df.returns)"
   ]
  },
  {
   "cell_type": "code",
   "execution_count": 7,
   "id": "415704ca-0be4-4e68-8c48-c31b839ec843",
   "metadata": {},
   "outputs": [
    {
     "data": {
      "text/html": [
       "<div>\n",
       "<style scoped>\n",
       "    .dataframe tbody tr th:only-of-type {\n",
       "        vertical-align: middle;\n",
       "    }\n",
       "\n",
       "    .dataframe tbody tr th {\n",
       "        vertical-align: top;\n",
       "    }\n",
       "\n",
       "    .dataframe thead th {\n",
       "        text-align: right;\n",
       "    }\n",
       "</style>\n",
       "<table border=\"1\" class=\"dataframe\">\n",
       "  <thead>\n",
       "    <tr style=\"text-align: right;\">\n",
       "      <th></th>\n",
       "      <th>close</th>\n",
       "      <th>returns</th>\n",
       "      <th>log_returns</th>\n",
       "    </tr>\n",
       "    <tr>\n",
       "      <th>Date</th>\n",
       "      <th></th>\n",
       "      <th></th>\n",
       "      <th></th>\n",
       "    </tr>\n",
       "  </thead>\n",
       "  <tbody>\n",
       "    <tr>\n",
       "      <th>1980-12-12</th>\n",
       "      <td>0.128348</td>\n",
       "      <td>0.000000</td>\n",
       "      <td>0.000000</td>\n",
       "    </tr>\n",
       "    <tr>\n",
       "      <th>1980-12-15</th>\n",
       "      <td>0.121652</td>\n",
       "      <td>-0.052171</td>\n",
       "      <td>-0.053581</td>\n",
       "    </tr>\n",
       "    <tr>\n",
       "      <th>1980-12-16</th>\n",
       "      <td>0.112723</td>\n",
       "      <td>-0.073398</td>\n",
       "      <td>-0.076231</td>\n",
       "    </tr>\n",
       "    <tr>\n",
       "      <th>1980-12-17</th>\n",
       "      <td>0.115513</td>\n",
       "      <td>0.024751</td>\n",
       "      <td>0.024450</td>\n",
       "    </tr>\n",
       "    <tr>\n",
       "      <th>1980-12-18</th>\n",
       "      <td>0.118862</td>\n",
       "      <td>0.028992</td>\n",
       "      <td>0.028580</td>\n",
       "    </tr>\n",
       "  </tbody>\n",
       "</table>\n",
       "</div>"
      ],
      "text/plain": [
       "               close   returns  log_returns\n",
       "Date                                       \n",
       "1980-12-12  0.128348  0.000000     0.000000\n",
       "1980-12-15  0.121652 -0.052171    -0.053581\n",
       "1980-12-16  0.112723 -0.073398    -0.076231\n",
       "1980-12-17  0.115513  0.024751     0.024450\n",
       "1980-12-18  0.118862  0.028992     0.028580"
      ]
     },
     "execution_count": 7,
     "metadata": {},
     "output_type": "execute_result"
    }
   ],
   "source": [
    "# Print the top 5 rows\n",
    "df.head()"
   ]
  },
  {
   "cell_type": "code",
   "execution_count": 8,
   "id": "9cab5a27-ce2a-41c8-9797-9d7bdadd623f",
   "metadata": {},
   "outputs": [
    {
     "data": {
      "text/plain": [
       "[<matplotlib.lines.Line2D at 0x2aaba148590>]"
      ]
     },
     "execution_count": 8,
     "metadata": {},
     "output_type": "execute_result"
    },
    {
     "data": {
      "image/png": "[encoded data removed]",
      "text/plain": [
       "<Figure size 1600x400 with 1 Axes>"
      ]
     },
     "metadata": {},
     "output_type": "display_data"
    }
   ],
   "source": [
    "# Create a new figure for the log returns\n",
    "plt.figure(1, figsize=(16, 4))\n",
    "\n",
    "# Plot the log returns from the DataFrame\n",
    "plt.plot(df.log_returns)"
   ]
  },
  {
   "cell_type": "code",
   "execution_count": 9,
   "id": "99cb95b0-9d0c-4814-93d3-e12f9480cbaa",
   "metadata": {},
   "outputs": [
    {
     "data": {
      "text/plain": [
       "array([[ 1.28347993e-01,  0.00000000e+00],\n",
       "       [ 1.21652000e-01, -5.35807626e-02],\n",
       "       [ 1.12723000e-01, -7.62310219e-02],\n",
       "       ...,\n",
       "       [ 1.78990005e+02,  8.41566880e-03],\n",
       "       [ 1.78389999e+02, -3.35780771e-03],\n",
       "       [ 1.79800003e+02,  7.87297767e-03]])"
      ]
     },
     "execution_count": 9,
     "metadata": {},
     "output_type": "execute_result"
    }
   ],
   "source": [
    "# Extract 'close' and 'log_returns' columns from the DataFrame and store them as a NumPy array\n",
    "x = df[['close', 'log_returns']].values\n",
    "\n",
    "# Print a sample of the 'close and log_returns columns\n",
    "x"
   ]
  },
  {
   "cell_type": "code",
   "execution_count": 10,
   "id": "03a4f2f3-d0a9-4aab-ab97-9167706ac985",
   "metadata": {},
   "outputs": [],
   "source": [
    "# Import necessary libraries\n",
    "from sklearn.preprocessing import MinMaxScaler"
   ]
  },
  {
   "cell_type": "code",
   "execution_count": 11,
   "id": "0c37c9ff-9bd9-4fab-9f0f-bc5c93c778a2",
   "metadata": {},
   "outputs": [],
   "source": [
    "# Create a MinMaxScaler object with the desired feature range (0, 1) and fit it to the data\n",
    "scaler = MinMaxScaler(feature_range=(0, 1)).fit(x)\n",
    "\n",
    "# Use the fitted scaler to transform the 'x' data, scaling it to the specified feature range\n",
    "X_scaled = scaler.transform(x)\n"
   ]
  },
  {
   "cell_type": "code",
   "execution_count": 12,
   "id": "195a87ab-e924-4baa-ae6b-dc1b0e2f7e5a",
   "metadata": {},
   "outputs": [
    {
     "data": {
      "text/plain": [
       "array([[4.03465548e-04, 7.18219387e-01],\n",
       "       [3.69372050e-04, 6.65593260e-01],\n",
       "       [3.23908920e-04, 6.43346555e-01],\n",
       "       [3.38114541e-04, 7.42233341e-01],\n",
       "       [3.55166430e-04, 7.46290313e-01]])"
      ]
     },
     "execution_count": 12,
     "metadata": {},
     "output_type": "execute_result"
    }
   ],
   "source": [
    "# Display the first 5 rows of the scaled data\n",
    "X_scaled[:5]\n"
   ]
  },
  {
   "cell_type": "code",
   "execution_count": 13,
   "id": "0886f145-a6dd-4f1a-aced-1f8d23755c15",
   "metadata": {},
   "outputs": [],
   "source": [
    "# Create a list containing the first element of each row in the scaled data 'X_scaled'\n",
    "y = [x[0] for x in X_scaled]"
   ]
  },
  {
   "cell_type": "code",
   "execution_count": 14,
   "id": "62850586-6dfe-48ce-bfdb-b12302eb13d8",
   "metadata": {},
   "outputs": [
    {
     "data": {
      "text/plain": [
       "[0.0004034655478713301,\n",
       " 0.00036937205040082227,\n",
       " 0.00032390891982572647,\n",
       " 0.0003381145406104735,\n",
       " 0.0003551664296160752]"
      ]
     },
     "execution_count": 14,
     "metadata": {},
     "output_type": "execute_result"
    }
   ],
   "source": [
    "# Print the first 5 rows of the list\n",
    "y[:5]"
   ]
  },
  {
   "cell_type": "code",
   "execution_count": 15,
   "id": "b98cddf8-c58d-4e06-82b0-0e9bd11ca4d2",
   "metadata": {},
   "outputs": [
    {
     "name": "stdout",
     "output_type": "stream",
     "text": [
      "8638\n"
     ]
    }
   ],
   "source": [
    "# Calculate the index where the data will be split into training and testing sets\n",
    "split = int(len(X_scaled) * 0.8)\n",
    "# Print the split index\n",
    "print(split) "
   ]
  },
  {
   "cell_type": "code",
   "execution_count": 16,
   "id": "2846c921-6a26-40d8-b9d6-1d8e075bf89c",
   "metadata": {},
   "outputs": [],
   "source": [
    "# Split the X_scaled data into training and testing sets\n",
    "x_train = X_scaled[:split]  # The training set for features\n",
    "x_test = X_scaled[split : len(X_scaled)]  # The testing set for features\n",
    "\n",
    "# Split the 'y' data into training and testing sets\n",
    "y_train = y[:split]  # The training set for target values\n",
    "y_test = y[split : len(y)]  # The testing set for target values\n"
   ]
  },
  {
   "cell_type": "code",
   "execution_count": 17,
   "id": "a90f2097-f9e8-40d2-9ec5-96536728f4b2",
   "metadata": {},
   "outputs": [],
   "source": [
    "# Ensure that the lengths of training data for features and targets match\n",
    "assert len(x_train) == len(y_train)\n",
    "\n",
    "# Ensure that the lengths of testing data for features and targets match\n",
    "assert len(x_test) == len(y_test)\n"
   ]
  },
  {
   "cell_type": "code",
   "execution_count": 18,
   "id": "8e394ff3-9066-42f2-ab80-0fd32dcd7717",
   "metadata": {},
   "outputs": [],
   "source": [
    "n = 4  # Define the number of previous time steps to consider (a hyperparameter).\n",
    "\n",
    "xtrain = []  # Initialize a list to store training feature sequences.\n",
    "ytrain = []  # Initialize a list to store corresponding training target values.\n",
    "xtest = []   # Initialize a list to store testing feature sequences.\n",
    "ytest = []   # Initialize a list to store corresponding testing target values.\n",
    "\n",
    "# Generate training sequences and targets\n",
    "for i in range(n, len(x_train)):\n",
    "    # Create a sequence of 'n' previous data points for training features.\n",
    "    xtrain.append(x_train[i - n : i, : x_train.shape[1]])\n",
    "    # Append the corresponding target value for training.\n",
    "    ytrain.append(y_train[i])\n",
    "\n",
    "# Generate testing sequences and targets\n",
    "for i in range(n, len(x_test)):\n",
    "    # Create a sequence of 'n' previous data points for testing features.\n",
    "    xtest.append(x_test[i - n : i, : x_test.shape[1]])\n",
    "    # Append the corresponding target value for testing.\n",
    "    ytest.append(y_test[i])\n"
   ]
  },
  {
   "cell_type": "code",
   "execution_count": 19,
   "id": "c69c27a8-944b-426e-8a3e-519da170752d",
   "metadata": {},
   "outputs": [
    {
     "data": {
      "text/html": [
       "<div>\n",
       "<style scoped>\n",
       "    .dataframe tbody tr th:only-of-type {\n",
       "        vertical-align: middle;\n",
       "    }\n",
       "\n",
       "    .dataframe tbody tr th {\n",
       "        vertical-align: top;\n",
       "    }\n",
       "\n",
       "    .dataframe thead th {\n",
       "        text-align: right;\n",
       "    }\n",
       "</style>\n",
       "<table border=\"1\" class=\"dataframe\">\n",
       "  <thead>\n",
       "    <tr style=\"text-align: right;\">\n",
       "      <th></th>\n",
       "      <th>close</th>\n",
       "      <th>returns</th>\n",
       "      <th>log_returns</th>\n",
       "    </tr>\n",
       "    <tr>\n",
       "      <th>Date</th>\n",
       "      <th></th>\n",
       "      <th></th>\n",
       "      <th></th>\n",
       "    </tr>\n",
       "  </thead>\n",
       "  <tbody>\n",
       "    <tr>\n",
       "      <th>2023-10-05</th>\n",
       "      <td>174.910004</td>\n",
       "      <td>0.007198</td>\n",
       "      <td>0.007172</td>\n",
       "    </tr>\n",
       "    <tr>\n",
       "      <th>2023-10-06</th>\n",
       "      <td>177.490005</td>\n",
       "      <td>0.014750</td>\n",
       "      <td>0.014643</td>\n",
       "    </tr>\n",
       "    <tr>\n",
       "      <th>2023-10-09</th>\n",
       "      <td>178.990005</td>\n",
       "      <td>0.008451</td>\n",
       "      <td>0.008416</td>\n",
       "    </tr>\n",
       "    <tr>\n",
       "      <th>2023-10-10</th>\n",
       "      <td>178.389999</td>\n",
       "      <td>-0.003352</td>\n",
       "      <td>-0.003358</td>\n",
       "    </tr>\n",
       "    <tr>\n",
       "      <th>2023-10-11</th>\n",
       "      <td>179.800003</td>\n",
       "      <td>0.007904</td>\n",
       "      <td>0.007873</td>\n",
       "    </tr>\n",
       "  </tbody>\n",
       "</table>\n",
       "</div>"
      ],
      "text/plain": [
       "                 close   returns  log_returns\n",
       "Date                                         \n",
       "2023-10-05  174.910004  0.007198     0.007172\n",
       "2023-10-06  177.490005  0.014750     0.014643\n",
       "2023-10-09  178.990005  0.008451     0.008416\n",
       "2023-10-10  178.389999 -0.003352    -0.003358\n",
       "2023-10-11  179.800003  0.007904     0.007873"
      ]
     },
     "execution_count": 19,
     "metadata": {},
     "output_type": "execute_result"
    }
   ],
   "source": [
    "# Print the last 5 rows\n",
    "df.tail()"
   ]
  },
  {
   "cell_type": "code",
   "execution_count": 20,
   "id": "a7c08e98-5efb-4f89-b070-25807174373c",
   "metadata": {},
   "outputs": [
    {
     "data": {
      "text/plain": [
       "array([[4.03465548e-04, 7.18219387e-01],\n",
       "       [3.69372050e-04, 6.65593260e-01],\n",
       "       [3.23908920e-04, 6.43346555e-01],\n",
       "       [3.38114541e-04, 7.42233341e-01]])"
      ]
     },
     "execution_count": 20,
     "metadata": {},
     "output_type": "execute_result"
    }
   ],
   "source": [
    "# Print the first traning feature\n",
    "xtrain[0]"
   ]
  },
  {
   "cell_type": "code",
   "execution_count": 21,
   "id": "fcd70546-5840-4492-9d65-97616c6dacb6",
   "metadata": {},
   "outputs": [
    {
     "data": {
      "text/plain": [
       "0.0003551664296160752"
      ]
     },
     "execution_count": 21,
     "metadata": {},
     "output_type": "execute_result"
    }
   ],
   "source": [
    "# Print the first target feature\n",
    "ytrain[0]"
   ]
  },
  {
   "cell_type": "code",
   "execution_count": 22,
   "id": "62defc19-db8a-44db-8bb4-368442237f1c",
   "metadata": {},
   "outputs": [],
   "source": [
    "# Converts the target value associated with the first training feature sequence to a NumPy array.\n",
    "val = np.array(ytrain[0])\n",
    "# Appends a column of zeros to the 'val' array, possibly to match the shape of another array.\n",
    "val = np.c_[val, np.zeros(val.shape)]"
   ]
  },
  {
   "cell_type": "code",
   "execution_count": 23,
   "id": "bfbc7914-68f6-431f-8255-329460337ae8",
   "metadata": {},
   "outputs": [
    {
     "data": {
      "text/plain": [
       "array([[ 0.118862  , -0.73124786]])"
      ]
     },
     "execution_count": 23,
     "metadata": {},
     "output_type": "execute_result"
    }
   ],
   "source": [
    "# Inversely scales (rescales) the 'val' array to the original range using the inverse transformation method of the scaler.\n",
    "scaler.inverse_transform(val)"
   ]
  },
  {
   "cell_type": "code",
   "execution_count": 24,
   "id": "554e3c44-e743-43df-b390-90cb7e5c4075",
   "metadata": {},
   "outputs": [],
   "source": [
    "# Convert 'xtrain' and 'ytrain' into NumPy arrays for better compatibility with deep learning libraries.\n",
    "xtrain, ytrain = (np.array(xtrain), np.array(ytrain))\n",
    "\n",
    "# Reshape the 'xtrain' array to match the expected input shape for a deep learning model.\n",
    "xtrain = np.reshape(xtrain, (xtrain.shape[0], xtrain.shape[1], xtrain.shape[2]))\n",
    "\n",
    "# Convert 'xtest' and 'ytest' into NumPy arrays.\n",
    "xtest, ytest = (np.array(xtest), np.array(ytest))\n",
    "\n",
    "# Reshape the 'xtest' array, matching the expected input shape for a deep learning model.\n",
    "xtest = np.reshape(xtest, (xtest.shape[0], xtest.shape[1], xtest.shape[2]))\n"
   ]
  },
  {
   "cell_type": "code",
   "execution_count": 25,
   "id": "60c83072-aa5d-431d-8f25-3a1857f30900",
   "metadata": {},
   "outputs": [
    {
     "name": "stdout",
     "output_type": "stream",
     "text": [
      "(8634, 4, 2)\n",
      "(8634,)\n",
      "---\n",
      "(2156, 4, 2)\n",
      "(2156,)\n"
     ]
    }
   ],
   "source": [
    "# Print the shapes\n",
    "print(xtrain.shape)\n",
    "print(ytrain.shape)\n",
    "print('---')\n",
    "print(xtest.shape)\n",
    "print(ytest.shape)"
   ]
  },
  {
   "cell_type": "markdown",
   "id": "9473a3b7-b85b-4021-b517-96bb55e0f981",
   "metadata": {},
   "source": [
    "## Building the model"
   ]
  },
  {
   "cell_type": "code",
   "execution_count": 26,
   "id": "02bfd98d-31cd-46e5-8edb-d92c229d8fbb",
   "metadata": {},
   "outputs": [],
   "source": [
    "# Import necessary libraries\n",
    "from keras.layers import LSTM, Dense"
   ]
  },
  {
   "cell_type": "markdown",
   "id": "a32b979d-792d-4e1a-8fe1-ec640f3b27fc",
   "metadata": {},
   "source": [
    "### Using Tensorflows functional api to build the model"
   ]
  },
  {
   "cell_type": "code",
   "execution_count": 27,
   "id": "40478035-9d53-4bdd-bde2-e186512e0a2b",
   "metadata": {
    "tags": []
   },
   "outputs": [
    {
     "name": "stdout",
     "output_type": "stream",
     "text": [
      "Epoch 1/30\n",
      "270/270 [==============================] - 5s 10ms/step - loss: 2.4619e-04 - val_loss: 0.0081\n",
      "Epoch 2/30\n",
      "270/270 [==============================] - 2s 8ms/step - loss: 2.0525e-05 - val_loss: 0.0042\n",
      "Epoch 3/30\n",
      "270/270 [==============================] - 2s 8ms/step - loss: 1.5415e-05 - val_loss: 0.0027\n",
      "Epoch 4/30\n",
      "270/270 [==============================] - 2s 8ms/step - loss: 1.4700e-05 - val_loss: 0.0011\n",
      "Epoch 5/30\n",
      "270/270 [==============================] - 2s 8ms/step - loss: 1.3216e-05 - val_loss: 0.0011\n",
      "Epoch 6/30\n",
      "270/270 [==============================] - 2s 9ms/step - loss: 1.3240e-05 - val_loss: 0.0013\n",
      "Epoch 7/30\n",
      "270/270 [==============================] - 2s 9ms/step - loss: 1.2078e-05 - val_loss: 0.0016\n",
      "Epoch 8/30\n",
      "270/270 [==============================] - 2s 9ms/step - loss: 1.3432e-05 - val_loss: 9.0167e-04\n",
      "Epoch 9/30\n",
      "270/270 [==============================] - 2s 8ms/step - loss: 1.2385e-05 - val_loss: 4.5769e-04\n",
      "Epoch 10/30\n",
      "270/270 [==============================] - 2s 9ms/step - loss: 1.1515e-05 - val_loss: 4.1994e-04\n",
      "Epoch 11/30\n",
      "270/270 [==============================] - 3s 10ms/step - loss: 1.1336e-05 - val_loss: 4.0412e-04\n",
      "Epoch 12/30\n",
      "270/270 [==============================] - 3s 11ms/step - loss: 1.2217e-05 - val_loss: 3.6378e-04\n",
      "Epoch 13/30\n",
      "270/270 [==============================] - 3s 11ms/step - loss: 1.0488e-05 - val_loss: 3.2266e-04\n",
      "Epoch 14/30\n",
      "270/270 [==============================] - 3s 10ms/step - loss: 1.1478e-05 - val_loss: 3.2492e-04\n",
      "Epoch 15/30\n",
      "270/270 [==============================] - 3s 11ms/step - loss: 1.0362e-05 - val_loss: 2.2732e-04\n",
      "Epoch 16/30\n",
      "270/270 [==============================] - 3s 11ms/step - loss: 1.0605e-05 - val_loss: 6.0752e-04\n",
      "Epoch 17/30\n",
      "270/270 [==============================] - 3s 11ms/step - loss: 1.1148e-05 - val_loss: 2.2374e-04\n",
      "Epoch 18/30\n",
      "270/270 [==============================] - 3s 11ms/step - loss: 1.0138e-05 - val_loss: 5.9978e-04\n",
      "Epoch 19/30\n",
      "270/270 [==============================] - 4s 13ms/step - loss: 1.0557e-05 - val_loss: 1.5757e-04\n",
      "Epoch 20/30\n",
      "270/270 [==============================] - 3s 11ms/step - loss: 1.2016e-05 - val_loss: 2.2725e-04\n",
      "Epoch 21/30\n",
      "270/270 [==============================] - 3s 11ms/step - loss: 9.9418e-06 - val_loss: 6.3741e-04\n",
      "Epoch 22/30\n",
      "270/270 [==============================] - 3s 11ms/step - loss: 1.2253e-05 - val_loss: 1.8809e-04\n",
      "Epoch 23/30\n",
      "270/270 [==============================] - 3s 11ms/step - loss: 1.0241e-05 - val_loss: 4.7237e-04\n",
      "Epoch 24/30\n",
      "270/270 [==============================] - 3s 11ms/step - loss: 9.8704e-06 - val_loss: 2.6067e-04\n",
      "Epoch 25/30\n",
      "270/270 [==============================] - 3s 11ms/step - loss: 9.6240e-06 - val_loss: 4.8703e-04\n",
      "Epoch 26/30\n",
      "270/270 [==============================] - 3s 12ms/step - loss: 1.0220e-05 - val_loss: 4.0594e-04\n",
      "Epoch 27/30\n",
      "270/270 [==============================] - 3s 12ms/step - loss: 1.0163e-05 - val_loss: 7.8220e-04\n",
      "Epoch 28/30\n",
      "270/270 [==============================] - 3s 12ms/step - loss: 9.6258e-06 - val_loss: 8.3949e-04\n",
      "Epoch 29/30\n",
      "270/270 [==============================] - 3s 12ms/step - loss: 1.1742e-05 - val_loss: 0.0013\n",
      "Epoch 30/30\n",
      "270/270 [==============================] - 3s 12ms/step - loss: 1.1186e-05 - val_loss: 0.0029\n"
     ]
    },
    {
     "data": {
      "text/plain": [
       "<keras.src.callbacks.History at 0x2aaba088b90>"
      ]
     },
     "execution_count": 27,
     "metadata": {},
     "output_type": "execute_result"
    }
   ],
   "source": [
    "\n",
    "# Create an input layer with the shape matching the dimensions of the training data.\n",
    "input_layer = tf.keras.layers.Input(shape=(xtrain.shape[1], xtrain.shape[2]))\n",
    "\n",
    "# Create a bidirectional Long Short-Term Memory (LSTM) layer with 128 units and ReLU activation,\n",
    "# returning sequences for further processing.\n",
    "hidden_layer1 = tf.keras.layers.Bidirectional(LSTM(128, activation='relu', return_sequences=True))(input_layer)\n",
    "\n",
    "# Add a dropout layer after the first LSTM layer to prevent overfitting.\n",
    "hidden_layer1 = tf.keras.layers.Dropout(0.2)(hidden_layer1)\n",
    "\n",
    "# Create another bidirectional LSTM layer with 64 units and ReLU activation.\n",
    "hidden_layer2 = tf.keras.layers.Bidirectional(LSTM(64, activation='relu'))(hidden_layer1)\n",
    "\n",
    "# Add a dropout layer after the second LSTM layer.\n",
    "hidden_layer2 = tf.keras.layers.Dropout(0.2)(hidden_layer2)\n",
    "\n",
    "# Create the output layer with a single neuron and linear activation function.\n",
    "output_layer = tf.keras.layers.Dense(1, activation='linear')(hidden_layer2)\n",
    "\n",
    "# Construct the model with the input and output layers.\n",
    "model = tf.keras.models.Model(inputs=input_layer, outputs=output_layer)\n",
    "\n",
    "# Compile the model with the Adam optimizer and mean squared error loss function.\n",
    "model.compile(optimizer='adam', loss=\"mean_squared_error\")\n",
    "\n",
    "# Train the model using the training data (xtrain, ytrain) and validate it on the test data (xtest, ytest)\n",
    "# over 30 training epochs with a batch size of 32, and print training progress.\n",
    "model.fit(xtrain, ytrain, validation_data=(xtest, ytest), epochs=30, batch_size=32, verbose=1)\n"
   ]
  },
  {
   "cell_type": "code",
   "execution_count": 28,
   "id": "ad68ead1-ba02-4aeb-9648-d441397d3351",
   "metadata": {},
   "outputs": [
    {
     "name": "stdout",
     "output_type": "stream",
     "text": [
      "Model: \"model\"\n",
      "_________________________________________________________________\n",
      " Layer (type)                Output Shape              Param #   \n",
      "=================================================================\n",
      " input_1 (InputLayer)        [(None, 4, 2)]            0         \n",
      "                                                                 \n",
      " bidirectional (Bidirection  (None, 4, 256)            134144    \n",
      " al)                                                             \n",
      "                                                                 \n",
      " dropout (Dropout)           (None, 4, 256)            0         \n",
      "                                                                 \n",
      " bidirectional_1 (Bidirecti  (None, 128)               164352    \n",
      " onal)                                                           \n",
      "                                                                 \n",
      " dropout_1 (Dropout)         (None, 128)               0         \n",
      "                                                                 \n",
      " dense (Dense)               (None, 1)                 129       \n",
      "                                                                 \n",
      "=================================================================\n",
      "Total params: 298625 (1.14 MB)\n",
      "Trainable params: 298625 (1.14 MB)\n",
      "Non-trainable params: 0 (0.00 Byte)\n",
      "_________________________________________________________________\n"
     ]
    }
   ],
   "source": [
    "# Viewing the model summary\n",
    "model.summary()"
   ]
  },
  {
   "cell_type": "markdown",
   "id": "10c07624-0e66-4cbc-bbd0-53d74545dc97",
   "metadata": {},
   "source": [
    "## Evaluation"
   ]
  },
  {
   "cell_type": "code",
   "execution_count": 29,
   "id": "dfa8802c-be14-402f-8058-c5655eeac364",
   "metadata": {},
   "outputs": [
    {
     "name": "stdout",
     "output_type": "stream",
     "text": [
      "270/270 [==============================] - 1s 3ms/step\n",
      "68/68 [==============================] - 0s 3ms/step\n"
     ]
    }
   ],
   "source": [
    "# Generate predictions on the training and testing data\n",
    "trainPredict = model.predict(xtrain)\n",
    "testPredict = model.predict(xtest)"
   ]
  },
  {
   "cell_type": "code",
   "execution_count": 30,
   "id": "7f4905e3-07d5-4954-a515-350cd00dd9d0",
   "metadata": {},
   "outputs": [],
   "source": [
    "# Adding an extra column of zeros to trainPredict and testPredict\n",
    "trainPredict = np.c_[trainPredict, np.zeros(trainPredict.shape)]\n",
    "testPredict = np.c_[testPredict, np.zeros(testPredict.shape)]"
   ]
  },
  {
   "cell_type": "code",
   "execution_count": 31,
   "id": "a373da26-e82e-4df6-aae6-0324b896f0e8",
   "metadata": {},
   "outputs": [],
   "source": [
    "# Inverse transform and extract the first column of the predicted values for train and test sets\n",
    "trainPredict = scaler.inverse_transform(trainPredict)\n",
    "trainPredict = [x[0] for x in trainPredict]\n",
    "\n",
    "testPredict = scaler.inverse_transform(testPredict)\n",
    "testPredict = [x[0] for x in testPredict]"
   ]
  },
  {
   "cell_type": "code",
   "execution_count": 32,
   "id": "7347590a-d0ed-40e0-b914-f660c8cb69b7",
   "metadata": {},
   "outputs": [],
   "source": [
    "# Import necessary libraries\n",
    "from sklearn.metrics import mean_squared_error"
   ]
  },
  {
   "cell_type": "code",
   "execution_count": 33,
   "id": "5fab2627-d904-4b3a-910c-15f48e5b4012",
   "metadata": {},
   "outputs": [
    {
     "name": "stdout",
     "output_type": "stream",
     "text": [
      "Training score: 7.032210470396279\n",
      "Test score: 88.44592159087209\n"
     ]
    }
   ],
   "source": [
    "# Calculate and print the training and test scores\n",
    "trainScore = mean_squared_error([x[0][0] for x in xtrain], trainPredict, squared=False)\n",
    "print(f'Training score: {trainScore}')\n",
    "\n",
    "testScore = mean_squared_error([x[0][0] for x in xtest], testPredict, squared=False)\n",
    "print(f'Test score: {testScore}')"
   ]
  },
  {
   "cell_type": "markdown",
   "id": "159a459e-2971-4d01-a756-e4371e7a7d4b",
   "metadata": {},
   "source": [
    "The lower the score and closer these two scores the better. This model shows signs of overfitting. Previously I had tweaked several parameters, all of which ended with overfitting. This is to be expected as I currently only have access to daily data, for a more accurate model the next steps would be to purchase data on a smaller timeframe so as to have a larger dataset after which you would retrain and retweak the model to get better results."
   ]
  },
  {
   "cell_type": "markdown",
   "id": "4c50104f-e4ac-4da8-802e-bbda0a9e6559",
   "metadata": {},
   "source": [
    "## Visualization of results"
   ]
  },
  {
   "cell_type": "code",
   "execution_count": 34,
   "id": "796f8a6b-c877-465b-972a-43e69bfb9795",
   "metadata": {
    "tags": []
   },
   "outputs": [
    {
     "data": {
      "image/png": "[encoded data removed]",
      "text/plain": [
       "<Figure size 1600x600 with 1 Axes>"
      ]
     },
     "metadata": {},
     "output_type": "display_data"
    }
   ],
   "source": [
    "# Create a figure for the plot with specified dimensions\n",
    "plt.figure(1, figsize=(16, 6))\n",
    "# Plot the predicted prices on the same figure in purple\n",
    "plt.plot(range(len(testPredict)), testPredict, color='purple', label='Predicted Prices')\n",
    "# Plot the actual prices from the original dataset in orange\n",
    "plt.plot(range(len(df.close[-len(ytest):])), df.close[-len(ytest):], color='orange', label='Actual Prices')\n",
    "# Add a legend to the plot to distinguish between predicted and actual prices\n",
    "plt.legend()\n",
    "# Display the plot\n",
    "plt.show()"
   ]
  },
  {
   "cell_type": "code",
   "execution_count": 35,
   "id": "f8376971-1c02-42ac-b4b5-7ba4c58406d4",
   "metadata": {},
   "outputs": [],
   "source": [
    "# Concatenate the predictions from both training and test sets along the first axis (rows)\n",
    "predictions = np.concatenate((trainPredict, testPredict), axis=0)"
   ]
  },
  {
   "cell_type": "code",
   "execution_count": 36,
   "id": "90a27f03-6b60-4ff0-843a-4efa90cab52c",
   "metadata": {},
   "outputs": [
    {
     "data": {
      "text/plain": [
       "10790"
      ]
     },
     "execution_count": 36,
     "metadata": {},
     "output_type": "execute_result"
    }
   ],
   "source": [
    "# Display the length of the predictions\n",
    "len(predictions)"
   ]
  },
  {
   "cell_type": "code",
   "execution_count": 37,
   "id": "3d126858-e855-4e76-a9ed-5186d8ea875a",
   "metadata": {},
   "outputs": [],
   "source": [
    "# Create a new column 'predictions' in the DataFrame and initialize it with NaN values\n",
    "df['predictions'] = np.nan\n",
    "\n",
    "# Assign the predicted values to the 'predictions' column, starting from the end of the DataFrame\n",
    "# This ensures the predicted values align with their corresponding dates\n",
    "df['predictions'][-len(predictions):] = predictions\n",
    "\n",
    "# Calculate the difference between the 'close' column (actual values) and the 'predictions' column\n",
    "df['value_difference'] = df.close - df.predictions"
   ]
  },
  {
   "cell_type": "code",
   "execution_count": 38,
   "id": "8492c2d1-c9af-4bd0-93af-a5ccf811de64",
   "metadata": {},
   "outputs": [
    {
     "data": {
      "text/html": [
       "<div>\n",
       "<style scoped>\n",
       "    .dataframe tbody tr th:only-of-type {\n",
       "        vertical-align: middle;\n",
       "    }\n",
       "\n",
       "    .dataframe tbody tr th {\n",
       "        vertical-align: top;\n",
       "    }\n",
       "\n",
       "    .dataframe thead th {\n",
       "        text-align: right;\n",
       "    }\n",
       "</style>\n",
       "<table border=\"1\" class=\"dataframe\">\n",
       "  <thead>\n",
       "    <tr style=\"text-align: right;\">\n",
       "      <th></th>\n",
       "      <th>close</th>\n",
       "      <th>returns</th>\n",
       "      <th>log_returns</th>\n",
       "      <th>predictions</th>\n",
       "      <th>value_difference</th>\n",
       "    </tr>\n",
       "    <tr>\n",
       "      <th>Date</th>\n",
       "      <th></th>\n",
       "      <th></th>\n",
       "      <th></th>\n",
       "      <th></th>\n",
       "      <th></th>\n",
       "    </tr>\n",
       "  </thead>\n",
       "  <tbody>\n",
       "    <tr>\n",
       "      <th>2023-09-28</th>\n",
       "      <td>170.690002</td>\n",
       "      <td>0.001526</td>\n",
       "      <td>0.001524</td>\n",
       "      <td>152.014999</td>\n",
       "      <td>18.675003</td>\n",
       "    </tr>\n",
       "    <tr>\n",
       "      <th>2023-09-29</th>\n",
       "      <td>171.210007</td>\n",
       "      <td>0.003046</td>\n",
       "      <td>0.003042</td>\n",
       "      <td>151.243325</td>\n",
       "      <td>19.966682</td>\n",
       "    </tr>\n",
       "    <tr>\n",
       "      <th>2023-10-02</th>\n",
       "      <td>173.750000</td>\n",
       "      <td>0.014836</td>\n",
       "      <td>0.014727</td>\n",
       "      <td>150.494045</td>\n",
       "      <td>23.255955</td>\n",
       "    </tr>\n",
       "    <tr>\n",
       "      <th>2023-10-03</th>\n",
       "      <td>172.399994</td>\n",
       "      <td>-0.007770</td>\n",
       "      <td>-0.007800</td>\n",
       "      <td>151.135837</td>\n",
       "      <td>21.264157</td>\n",
       "    </tr>\n",
       "    <tr>\n",
       "      <th>2023-10-04</th>\n",
       "      <td>173.660004</td>\n",
       "      <td>0.007309</td>\n",
       "      <td>0.007282</td>\n",
       "      <td>151.433390</td>\n",
       "      <td>22.226614</td>\n",
       "    </tr>\n",
       "    <tr>\n",
       "      <th>2023-10-05</th>\n",
       "      <td>174.910004</td>\n",
       "      <td>0.007198</td>\n",
       "      <td>0.007172</td>\n",
       "      <td>152.026249</td>\n",
       "      <td>22.883754</td>\n",
       "    </tr>\n",
       "    <tr>\n",
       "      <th>2023-10-06</th>\n",
       "      <td>177.490005</td>\n",
       "      <td>0.014750</td>\n",
       "      <td>0.014643</td>\n",
       "      <td>152.736453</td>\n",
       "      <td>24.753552</td>\n",
       "    </tr>\n",
       "    <tr>\n",
       "      <th>2023-10-09</th>\n",
       "      <td>178.990005</td>\n",
       "      <td>0.008451</td>\n",
       "      <td>0.008416</td>\n",
       "      <td>153.612514</td>\n",
       "      <td>25.377492</td>\n",
       "    </tr>\n",
       "    <tr>\n",
       "      <th>2023-10-10</th>\n",
       "      <td>178.389999</td>\n",
       "      <td>-0.003352</td>\n",
       "      <td>-0.003358</td>\n",
       "      <td>154.928618</td>\n",
       "      <td>23.461381</td>\n",
       "    </tr>\n",
       "    <tr>\n",
       "      <th>2023-10-11</th>\n",
       "      <td>179.800003</td>\n",
       "      <td>0.007904</td>\n",
       "      <td>0.007873</td>\n",
       "      <td>155.682675</td>\n",
       "      <td>24.117328</td>\n",
       "    </tr>\n",
       "  </tbody>\n",
       "</table>\n",
       "</div>"
      ],
      "text/plain": [
       "                 close   returns  log_returns  predictions  value_difference\n",
       "Date                                                                        \n",
       "2023-09-28  170.690002  0.001526     0.001524   152.014999         18.675003\n",
       "2023-09-29  171.210007  0.003046     0.003042   151.243325         19.966682\n",
       "2023-10-02  173.750000  0.014836     0.014727   150.494045         23.255955\n",
       "2023-10-03  172.399994 -0.007770    -0.007800   151.135837         21.264157\n",
       "2023-10-04  173.660004  0.007309     0.007282   151.433390         22.226614\n",
       "2023-10-05  174.910004  0.007198     0.007172   152.026249         22.883754\n",
       "2023-10-06  177.490005  0.014750     0.014643   152.736453         24.753552\n",
       "2023-10-09  178.990005  0.008451     0.008416   153.612514         25.377492\n",
       "2023-10-10  178.389999 -0.003352    -0.003358   154.928618         23.461381\n",
       "2023-10-11  179.800003  0.007904     0.007873   155.682675         24.117328"
      ]
     },
     "execution_count": 38,
     "metadata": {},
     "output_type": "execute_result"
    }
   ],
   "source": [
    "# Print the last 10 rows\n",
    "df.tail(10)"
   ]
  },
  {
   "cell_type": "markdown",
   "id": "2ac2ccb2-bff8-4265-a713-0bbd644572a9",
   "metadata": {},
   "source": [
    "### Save the model so it's ready for deployment"
   ]
  },
  {
   "cell_type": "code",
   "execution_count": 40,
   "id": "9ec82f72-05a5-421f-9130-d78bae81f93b",
   "metadata": {},
   "outputs": [],
   "source": [
    "# Save the model\n",
    "model.save(\"stock_price_prediction_model.keras\")"
   ]
  },
  {
   "cell_type": "markdown",
   "id": "e20631f7-7bf4-4e3e-8111-804ef3abf352",
   "metadata": {},
   "source": [
    "## Results\n",
    "\n",
    "The **Predicting Stock Market Prices with Deep Learning** project culminated in the successful development of a deep learning model for forecasting stock market prices. The project achieved the following notable outcomes and insights:\n",
    "\n",
    "### Data Collection and Preprocessing\n",
    "\n",
    "- Historical stock price data for a selected stock or index was gathered to create the dataset for model training and testing.\n",
    "- Comprehensive data preprocessing, including data cleaning, feature engineering, and normalization, was performed to ensure that the data was suitable for deep learning.\n",
    "\n",
    "### Model Building and Regularization\n",
    "\n",
    "- A sophisticated deep learning model was built using TensorFlow, a renowned deep learning framework.\n",
    "- The model architecture consisted of bidirectional Long Short-Term Memory (LSTM) layers, known for their ability to capture temporal patterns in time series data.\n",
    "- To mitigate overfitting, essential regularization techniques such as dropout layers were integrated into the neural network.\n",
    "\n",
    "### Model Training and Evaluation\n",
    "\n",
    "- The model was trained using a substantial portion of historical stock price data, which was divided into training and testing sets to assess its performance.\n",
    "- The model's predictions were rigorously evaluated using standard metrics, including Mean Squared Error (MSE) and Root Mean Squared Error (RMSE).\n",
    "\n",
    "### Visualization and Deployment\n",
    "\n",
    "- Engaging visualizations were created to present predicted stock prices alongside actual stock prices over time. These visualizations provided a clear perspective of the model's performance.\n",
    "- The project reached a point where the trained model could be deployed for real-time or batch predictions, offering the potential to assist traders and investors in making informed decisions.\n",
    "\n",
    "### Benefits and Challenges\n",
    "\n",
    "- The project illuminated the potential benefits of data-driven decision-making in the realm of stock trading and investments.\n",
    "- By understanding future price trends, users can proactively manage their investment risks, enhancing risk management strategies.\n",
    "- The project also served as an educational resource for individuals interested in deep learning, financial analysis, and time series forecasting.\n",
    "\n",
    "### Challenges and Considerations\n",
    "\n",
    "- Ensuring the quality and reliability of historical stock price data was a pivotal challenge. High-quality data is foundational for accurate predictions.\n",
    "- The project addressed the risk of overfitting through the implementation of appropriate regularization techniques.\n",
    "- External factors, such as sudden market volatility and unforeseen events, may affect the model's ability to predict stock prices with precision.\n",
    "\n",
    "### Ways to Improve the Model\n",
    "\n",
    "- Add additional data via a purchase.\n",
    "- Modify the model to take an input of several different stock tickers. This would gain exposure to different movement patterns, as this model is only trained on one stock it should only be used to predict one stock. By adding different tickers and training on all, this model would be more accurate predicting various stock prices.\n",
    "\n",
    "The **Predicting Stock Market Prices with Deep Learning** project not only demonstrates the power of deep learning in financial analysis but also highlights its practical applications in making informed investment decisions. It serves as a testament to the potential of data-driven strategies in the dynamic world of stock trading and investments."
   ]
  },
  {
   "cell_type": "code",
   "execution_count": null,
   "id": "4dcc6574-5fd2-4c0f-8a36-3e240eda0dd1",
   "metadata": {},
   "outputs": [],
   "source": []
  }
 ],
 "metadata": {
  "kernelspec": {
   "display_name": "Python 3 (ipykernel)",
   "language": "python",
   "name": "python3"
  },
  "language_info": {
   "codemirror_mode": {
    "name": "ipython",
    "version": 3
   },
   "file_extension": ".py",
   "mimetype": "text/x-python",
   "name": "python",
   "nbconvert_exporter": "python",
   "pygments_lexer": "ipython3",
   "version": "3.11.6"
  }
 },
 "nbformat": 4,
 "nbformat_minor": 5
}
